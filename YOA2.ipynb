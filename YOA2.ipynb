{
 "cells": [
  {
   "cell_type": "markdown",
   "id": "61e2a7a7",
   "metadata": {},
   "source": [
    "Your Own Analysis 2 \n",
    "GOAL\n",
    "1) Lin28a CLIP-seq Binding 위치 주석 (CDS, UTR)\n",
    "\n"
   ]
  },
  {
   "cell_type": "markdown",
   "id": "6fa9b48d",
   "metadata": {},
   "source": [
    "1. Lin28a CLIP-seq Binding 위치 주석 (CDS, UTR)"
   ]
  },
  {
   "cell_type": "code",
   "execution_count": 3,
   "id": "73404092",
   "metadata": {},
   "outputs": [],
   "source": [
    "import os\n",
    "os.chdir(\"/home/sohyunkum2/binfo/YOA/data\")\n",
    "\n",
    "!bedtools bamtobed -i CLIP-35L33G.bam > CLIP-35L33G.bed"
   ]
  },
  {
   "cell_type": "code",
   "execution_count": 26,
   "id": "24704ac5",
   "metadata": {},
   "outputs": [],
   "source": [
    "# GTF 파일에서 CDS와 3'UTR 영역 추출\n",
    "!awk '$3 == \"CDS\"' gencode.gtf > CDS.gtf\n",
    "!awk '$3 ==\"UTR\"' gencode.gtf > utr.gtf"
   ]
  },
  {
   "cell_type": "code",
   "execution_count": 27,
   "id": "0956133f",
   "metadata": {},
   "outputs": [
    {
     "name": "stdout",
     "output_type": "stream",
     "text": [
      "Warning: If your Wiggle data is a significant portion of available system memory, use the --max-mem and --sort-tmpdir options, or use --do-not-sort to disable post-conversion sorting. See --help for more information.\n",
      "Warning: If your Wiggle data is a significant portion of available system memory, use the --max-mem and --sort-tmpdir options, or use --do-not-sort to disable post-conversion sorting. See --help for more information.\n"
     ]
    }
   ],
   "source": [
    "# GTF -> BED 변환 (Intersect 하기 위함)\n",
    "!gtf2bed < CDS.gtf > CDS.bed\n",
    "!gtf2bed < utr.gtf > utr.bed"
   ]
  },
  {
   "cell_type": "code",
   "execution_count": 28,
   "id": "89f33cdc",
   "metadata": {},
   "outputs": [
    {
     "name": "stdout",
     "output_type": "stream",
     "text": [
      "***** WARNING: File CLIP-35L33G.bed has inconsistent naming convention for record:\n",
      "GL456210.1\t7142\t7157\tSRR458758.6758016\t40\t-\n",
      "\n",
      "***** WARNING: File CLIP-35L33G.bed has inconsistent naming convention for record:\n",
      "GL456210.1\t7142\t7157\tSRR458758.6758016\t40\t-\n",
      "\n",
      "***** WARNING: File CLIP-35L33G.bed has inconsistent naming convention for record:\n",
      "GL456210.1\t7142\t7157\tSRR458758.6758016\t40\t-\n",
      "\n",
      "***** WARNING: File CLIP-35L33G.bed has inconsistent naming convention for record:\n",
      "GL456210.1\t7142\t7157\tSRR458758.6758016\t40\t-\n",
      "\n"
     ]
    }
   ],
   "source": [
    "# Binding 위치와 CDS/3'UTR intersect \n",
    "!bedtools intersect -a CLIP-35L33G.bed -b CDS.bed -wa -wb > binding_in_CDS.bed\n",
    "!bedtools intersect -a CLIP-35L33G.bed -b utr.bed -wa -wb > binding_in_UTR.bed"
   ]
  },
  {
   "cell_type": "code",
   "execution_count": 4,
   "id": "07864c16",
   "metadata": {},
   "outputs": [],
   "source": [
    "#!pip install seaborn\n",
    "\n",
    "import pandas as pd\n",
    "import numpy as np\n",
    "import seaborn as sns\n",
    "import matplotlib.pyplot as plt\n",
    "import re\n",
    "\n",
    "#1. count 데이터 불러오기 \n",
    "df = pd.read_csv(\"read-counts.txt\", sep='\\t', comment='#', index_col=0)\n",
    "\n",
    "\n",
    "#2. mRNA abundance 변화 계산 \n",
    "df[\"RNA_change\"] = df[\"RNA-siLin28a.bam\"] - df[\"RNA-siLuc.bam\"] \n",
    "\n",
    "#3. binding_in_CDS.bed / UTR.bed에서 transcript_id 추출\n",
    "cds = pd.read_csv(\"binding_in_CDS.bed\", sep =\"\\t\", header=None)\n",
    "utr = pd.read_csv(\"binding_in_UTR.bed\", sep = \"\\t\", header=None)\n",
    "\n",
    "def extract_tx(df):\n",
    "    col = df[15].astype(str)\n",
    "    return set(col.str.extract(r'gene_id \"([^\"]+)\"')[0].dropna())\n",
    "\n",
    "cds_tx = extract_tx(cds)\n",
    "utr_tx = extract_tx(utr)\n",
    "\n",
    "#4. gene별 binding 부위 주석 추가\n",
    "def get_binding_region(tx):\n",
    "    if tx in cds_tx and tx in utr_tx:\n",
    "        return \"both\"\n",
    "    elif tx in cds_tx:\n",
    "        return \"CDS\"\n",
    "    elif tx in utr_tx:\n",
    "        return \"UTR\"\n",
    "    else:\n",
    "        return \"none\"\n",
    "    \n",
    "df[\"binding_region\"] = df.index.map(get_binding_region)"
   ]
  },
  {
   "cell_type": "code",
   "execution_count": 8,
   "id": "8e1340e2",
   "metadata": {},
   "outputs": [
    {
     "name": "stdout",
     "output_type": "stream",
     "text": [
      "binding_region\n",
      "none    35446\n",
      "both    17348\n",
      "UTR      1526\n",
      "CDS      1039\n",
      "Name: count, dtype: int64\n"
     ]
    }
   ],
   "source": [
    "print(df[\"binding_region\"].value_counts())\n"
   ]
  },
  {
   "cell_type": "code",
   "execution_count": 7,
   "id": "8c59d22b",
   "metadata": {},
   "outputs": [
    {
     "name": "stdout",
     "output_type": "stream",
     "text": [
      "모든 조건 모두에서 count가 0인 gene 수: 18045\n",
      "['Chr', 'Start', 'End', 'Strand', 'Length', 'CLIP-35L33G.bam', 'RNA-control.bam', 'RNA-siLin28a.bam', 'RNA-siLuc.bam', 'RPF-siLin28a.bam', 'RPF-siLuc.bam', 'RNA_change', 'binding_region']\n"
     ]
    }
   ],
   "source": [
    "# RNA 관련 열만 추출\n",
    "rna_cols = [\"RNA-siLin28a.bam\", \"RNA-siLuc.bam\", \"RNA-control.bam\", \"CLIP-35L33G.bam\", \"RPF-siLin28a.bam\", \"RPF-siLuc.bam\"]\n",
    "\n",
    "# 두 열 모두 0인 gene 수 확인\n",
    "zero_rna_genes = df[(df[rna_cols] == 0).all(axis=1)]\n",
    "print(f\"모든 조건 모두에서 count가 0인 gene 수: {zero_rna_genes.shape[0]}\")\n",
    "\n",
    "print(df.columns.tolist())\n",
    "\n"
   ]
  },
  {
   "cell_type": "markdown",
   "id": "68a36a15",
   "metadata": {},
   "source": [
    "COUNT가 0인 Gene에서 binding region이 CDS, UTR을 제외한 곳일 가능성이 높음. YOA3에서 확인해볼 것. "
   ]
  }
 ],
 "metadata": {
  "kernelspec": {
   "display_name": "informatics",
   "language": "python",
   "name": "python3"
  },
  "language_info": {
   "codemirror_mode": {
    "name": "ipython",
    "version": 3
   },
   "file_extension": ".py",
   "mimetype": "text/x-python",
   "name": "python",
   "nbconvert_exporter": "python",
   "pygments_lexer": "ipython3",
   "version": "3.10.17"
  }
 },
 "nbformat": 4,
 "nbformat_minor": 5
}
